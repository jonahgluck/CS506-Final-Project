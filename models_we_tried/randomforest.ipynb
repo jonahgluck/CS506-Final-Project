{
 "cells": [
  {
   "cell_type": "markdown",
   "metadata": {},
   "source": [
    "# Feature Reading & Cleaning"
   ]
  },
  {
   "cell_type": "code",
   "execution_count": 20,
   "metadata": {},
   "outputs": [],
   "source": [
    "import pandas as pd\n",
    "import numpy as np\n",
    "import matplotlib.pyplot as plt\n",
    "from sklearn.preprocessing import MinMaxScaler\n",
    "from sklearn.ensemble import RandomForestClassifier\n",
    "from sklearn.model_selection import GridSearchCV, train_test_split\n",
    "from sklearn.metrics import accuracy_score, classification_report, confusion_matrix\n",
    "from sklearn.metrics import confusion_matrix, ConfusionMatrixDisplay, classification_report, f1_score, precision_score, recall_score\n",
    "from sklearn.model_selection import train_test_split, GridSearchCV, cross_val_score\n",
    "# read the data\n",
    "df1 = pd.read_csv('data/2022.06.12.csv')\n",
    "df2 = pd.read_csv('data/2022.06.13.csv')\n",
    "df3 = pd.read_csv('data/2022.06.14.csv')"
   ]
  },
  {
   "cell_type": "code",
   "execution_count": 21,
   "metadata": {},
   "outputs": [],
   "source": [
    "df_dataset = pd.concat([df1, df2, df3])\n",
    "df_dataset.reset_index(drop=True, inplace=True)\n",
    "df_dataset = df_dataset.drop(['time_start', 'time_end', 'dest_ip', 'src_ip'], axis=1)"
   ]
  },
  {
   "cell_type": "code",
   "execution_count": 22,
   "metadata": {},
   "outputs": [
    {
     "name": "stdout",
     "output_type": "stream",
     "text": [
      "0\n"
     ]
    }
   ],
   "source": [
    "# replace +ve and -ve infinity with NaN\n",
    "df_dataset.replace([np.inf, -np.inf], np.nan, inplace=True)\n",
    "# drop missing values\n",
    "df_dataset.dropna(inplace=True)\n",
    "\n",
    "df_dataset.drop_duplicates(inplace = True)\n",
    "print(df_dataset.duplicated().sum())"
   ]
  },
  {
   "cell_type": "code",
   "execution_count": 23,
   "metadata": {},
   "outputs": [
    {
     "data": {
      "text/plain": [
       "label\n",
       "benign       434553\n",
       "outlier      352045\n",
       "malicious     72182\n",
       "Name: count, dtype: int64"
      ]
     },
     "execution_count": 23,
     "metadata": {},
     "output_type": "execute_result"
    }
   ],
   "source": [
    "df_dataset[\"label\"].value_counts()"
   ]
  },
  {
   "cell_type": "markdown",
   "metadata": {},
   "source": [
    "# Feature Engineering"
   ]
  },
  {
   "cell_type": "code",
   "execution_count": 24,
   "metadata": {},
   "outputs": [],
   "source": [
    "df_dataset['byte_ratio'] = df_dataset['bytes_in'] / (df_dataset['bytes_out'] + 1e-9)\n",
    "df_dataset['pkt_ratio'] = df_dataset['num_pkts_in'] / (df_dataset['num_pkts_out'] + 1e-9)\n",
    "df_dataset['byte_pkt_in_ratio'] = df_dataset['bytes_in'] / (df_dataset['num_pkts_in'] + 1e-9)\n",
    "df_dataset['byte_pkt_out_ratio'] = df_dataset['bytes_out'] / (df_dataset['num_pkts_out'] + 1e-9)\n",
    "df_dataset['entropy_per_byte'] = df_dataset['entropy'] / (df_dataset['bytes_in'] + df_dataset['bytes_out'] + 1e-9)\n",
    "df_dataset['total_entropy_ratio'] = df_dataset['total_entropy'] / (df_dataset['bytes_in'] + df_dataset['bytes_out'] + 1e-9)\n",
    "df_dataset['is_well_known_src_port'] = df_dataset['src_port'].apply(lambda x: 1 if x < 1024 else 0)\n",
    "df_dataset['is_well_known_dest_port'] = df_dataset['dest_port'].apply(lambda x: 1 if x < 1024 else 0)\n",
    "df_dataset['byte_diff'] = df_dataset['bytes_in'] - df_dataset['bytes_out']\n",
    "df_dataset['pkt_diff'] = df_dataset['num_pkts_in'] - df_dataset['num_pkts_out']\n",
    "df_dataset['flow_efficiency'] = (df_dataset['bytes_in'] + df_dataset['bytes_out']) / (df_dataset['num_pkts_in'] + df_dataset['num_pkts_out'] + 1e-9)\n",
    "df_dataset['bidirectional_entropy_ratio'] = df_dataset['entropy'] / (df_dataset['total_entropy'] + 1e-9)\n",
    "df_dataset['total_bytes'] = df_dataset['bytes_in'] + df_dataset['bytes_out']\n",
    "df_dataset['total_pkts'] = df_dataset['num_pkts_in'] + df_dataset['num_pkts_out']\n",
    "df_dataset['avg_byte_per_pkt'] = df_dataset['total_bytes'] / (df_dataset['total_pkts'] + 1e-9)\n",
    "df_dataset['log_bytes_in'] = np.log1p(df_dataset['bytes_in'])\n",
    "df_dataset['log_bytes_out'] = np.log1p(df_dataset['bytes_out'])\n",
    "df_dataset['log_duration'] = np.log1p(df_dataset['duration'])\n",
    "\n",
    "proto_encoded = pd.get_dummies(df_dataset['proto'], prefix='proto')\n",
    "df_dataset = pd.concat([df_dataset, proto_encoded], axis=1).drop('proto', axis=1)"
   ]
  },
  {
   "cell_type": "markdown",
   "metadata": {},
   "source": [
    "# Model Training"
   ]
  },
  {
   "cell_type": "code",
   "execution_count": 25,
   "metadata": {},
   "outputs": [],
   "source": [
    "df_equal = df_dataset\n",
    "train, test = train_test_split(df_equal, test_size=0.2)"
   ]
  },
  {
   "cell_type": "code",
   "execution_count": 26,
   "metadata": {},
   "outputs": [
    {
     "name": "stdout",
     "output_type": "stream",
     "text": [
      "Full dataset:\n",
      "\n",
      "Benign: 434553\n",
      "Outlier: 352045\n",
      "Malicious: 72182\n",
      "---------------\n",
      "Training set:\n",
      "\n",
      "Benign: 347646\n",
      "Outlier: 281516\n",
      "Malicious: 57862\n",
      "---------------\n",
      "Test set:\n",
      "\n",
      "Benign: 86907\n",
      "Outlier: 70529\n",
      "Malicious: 14320\n"
     ]
    },
    {
     "name": "stderr",
     "output_type": "stream",
     "text": [
      "C:\\Users\\Lenovo\\AppData\\Local\\Temp\\ipykernel_3652\\3465864147.py:9: FutureWarning: Series.__getitem__ treating keys as positions is deprecated. In a future version, integer keys will always be treated as labels (consistent with DataFrame behavior). To access a value by position, use `ser.iloc[pos]`\n",
      "  print(\"Benign: \" + str(df_equal[\"label\"].value_counts()[[0]].sum()))\n",
      "C:\\Users\\Lenovo\\AppData\\Local\\Temp\\ipykernel_3652\\3465864147.py:10: FutureWarning: Series.__getitem__ treating keys as positions is deprecated. In a future version, integer keys will always be treated as labels (consistent with DataFrame behavior). To access a value by position, use `ser.iloc[pos]`\n",
      "  print(\"Outlier: \" + str(df_equal[\"label\"].value_counts()[[1]].sum()))\n",
      "C:\\Users\\Lenovo\\AppData\\Local\\Temp\\ipykernel_3652\\3465864147.py:11: FutureWarning: Series.__getitem__ treating keys as positions is deprecated. In a future version, integer keys will always be treated as labels (consistent with DataFrame behavior). To access a value by position, use `ser.iloc[pos]`\n",
      "  print(\"Malicious: \" + str(df_equal[\"label\"].value_counts()[[2]].sum()))\n",
      "C:\\Users\\Lenovo\\AppData\\Local\\Temp\\ipykernel_3652\\3465864147.py:15: FutureWarning: Series.__getitem__ treating keys as positions is deprecated. In a future version, integer keys will always be treated as labels (consistent with DataFrame behavior). To access a value by position, use `ser.iloc[pos]`\n",
      "  print(\"Benign: \" + str(train[\"label\"].value_counts()[[0]].sum()))\n",
      "C:\\Users\\Lenovo\\AppData\\Local\\Temp\\ipykernel_3652\\3465864147.py:16: FutureWarning: Series.__getitem__ treating keys as positions is deprecated. In a future version, integer keys will always be treated as labels (consistent with DataFrame behavior). To access a value by position, use `ser.iloc[pos]`\n",
      "  print(\"Outlier: \" + str(train[\"label\"].value_counts()[[1]].sum()))\n",
      "C:\\Users\\Lenovo\\AppData\\Local\\Temp\\ipykernel_3652\\3465864147.py:17: FutureWarning: Series.__getitem__ treating keys as positions is deprecated. In a future version, integer keys will always be treated as labels (consistent with DataFrame behavior). To access a value by position, use `ser.iloc[pos]`\n",
      "  print(\"Malicious: \" + str(train[\"label\"].value_counts()[[2]].sum()))\n",
      "C:\\Users\\Lenovo\\AppData\\Local\\Temp\\ipykernel_3652\\3465864147.py:21: FutureWarning: Series.__getitem__ treating keys as positions is deprecated. In a future version, integer keys will always be treated as labels (consistent with DataFrame behavior). To access a value by position, use `ser.iloc[pos]`\n",
      "  print(\"Benign: \" + str(test[\"label\"].value_counts()[[0]].sum()))\n",
      "C:\\Users\\Lenovo\\AppData\\Local\\Temp\\ipykernel_3652\\3465864147.py:22: FutureWarning: Series.__getitem__ treating keys as positions is deprecated. In a future version, integer keys will always be treated as labels (consistent with DataFrame behavior). To access a value by position, use `ser.iloc[pos]`\n",
      "  print(\"Outlier: \" + str(test[\"label\"].value_counts()[[1]].sum()))\n",
      "C:\\Users\\Lenovo\\AppData\\Local\\Temp\\ipykernel_3652\\3465864147.py:23: FutureWarning: Series.__getitem__ treating keys as positions is deprecated. In a future version, integer keys will always be treated as labels (consistent with DataFrame behavior). To access a value by position, use `ser.iloc[pos]`\n",
      "  print(\"Malicious: \" + str(test[\"label\"].value_counts()[[2]].sum()))\n"
     ]
    }
   ],
   "source": [
    "numerical_columns = ['avg_ipt', 'bytes_in', 'bytes_out', 'dest_port', 'entropy',\n",
    "                     'num_pkts_out', 'num_pkts_in', 'src_port',\n",
    "                    'total_entropy', 'duration']\n",
    "min_max_scaler = MinMaxScaler().fit(train[numerical_columns])\n",
    "train[numerical_columns] = min_max_scaler.transform(train[numerical_columns])\n",
    "test[numerical_columns] = min_max_scaler.transform(test[numerical_columns])\n",
    "\n",
    "print(\"Full dataset:\\n\")\n",
    "print(\"Benign: \" + str(df_equal[\"label\"].value_counts()[[0]].sum()))\n",
    "print(\"Outlier: \" + str(df_equal[\"label\"].value_counts()[[1]].sum()))\n",
    "print(\"Malicious: \" + str(df_equal[\"label\"].value_counts()[[2]].sum()))\n",
    "print(\"---------------\")\n",
    "\n",
    "print(\"Training set:\\n\")\n",
    "print(\"Benign: \" + str(train[\"label\"].value_counts()[[0]].sum()))\n",
    "print(\"Outlier: \" + str(train[\"label\"].value_counts()[[1]].sum()))\n",
    "print(\"Malicious: \" + str(train[\"label\"].value_counts()[[2]].sum()))\n",
    "print(\"---------------\")\n",
    "\n",
    "print(\"Test set:\\n\")\n",
    "print(\"Benign: \" + str(test[\"label\"].value_counts()[[0]].sum()))\n",
    "print(\"Outlier: \" + str(test[\"label\"].value_counts()[[1]].sum()))\n",
    "print(\"Malicious: \" + str(test[\"label\"].value_counts()[[2]].sum()))"
   ]
  },
  {
   "cell_type": "code",
   "execution_count": 27,
   "metadata": {},
   "outputs": [],
   "source": [
    "y_train = np.array(train.pop(\"label\"))\n",
    "X_train = train.values\n",
    "\n",
    "y_test = np.array(test.pop(\"label\")) \n",
    "X_test = test.values"
   ]
  },
  {
   "cell_type": "code",
   "execution_count": 28,
   "metadata": {},
   "outputs": [
    {
     "name": "stdout",
     "output_type": "stream",
     "text": [
      "Perform a grid search in...\n",
      "Fitting 5 folds for each of 24 candidates, totalling 120 fits\n",
      "\n",
      "Optimal parameters: {'max_depth': 20, 'min_samples_leaf': 1, 'min_samples_split': 5, 'n_estimators': 200}\n",
      "Best cross-validation score: 0.9735\n",
      "\n",
      "Model Evaluation Metrics:\n",
      "Accuracy: 0.9740\n",
      "F1 Score: 0.9736\n",
      "Precision: 0.9735\n",
      "Recall: 0.9740\n",
      "\n",
      "5-Fold Cross-Validation Results:\n",
      "Scores for each fold: [0.97331152 0.97384223 0.97387384 0.9738518  0.97265871]\n",
      "Mean Score: 0.9735 (+/- 0.0009)\n"
     ]
    },
    {
     "data": {
      "text/plain": [
       "<Figure size 1000x800 with 0 Axes>"
      ]
     },
     "metadata": {},
     "output_type": "display_data"
    },
    {
     "data": {
      "image/png": "[encoded data removed]",
      "text/plain": [
       "<Figure size 640x480 with 2 Axes>"
      ]
     },
     "metadata": {},
     "output_type": "display_data"
    },
    {
     "name": "stdout",
     "output_type": "stream",
     "text": [
      "\n",
      "Classification Report:\n",
      "              precision    recall  f1-score   support\n",
      "\n",
      "      benign       1.00      1.00      1.00     86907\n",
      "   malicious       0.87      0.81      0.84     14320\n",
      "     outlier       0.96      0.98      0.97     70529\n",
      "\n",
      "    accuracy                           0.97    171756\n",
      "   macro avg       0.94      0.93      0.94    171756\n",
      "weighted avg       0.97      0.97      0.97    171756\n",
      "\n"
     ]
    }
   ],
   "source": [
    "# Defining the parameter grid\n",
    "param_grid = {\n",
    "    'n_estimators': [100, 200],\n",
    "    'max_depth': [None, 10, 20],\n",
    "    'min_samples_split': [2, 5],\n",
    "    'min_samples_leaf': [1, 3]\n",
    "}\n",
    "\n",
    "base_rf = RandomForestClassifier(random_state=42)\n",
    "\n",
    "grid_search = GridSearchCV(\n",
    "    estimator=base_rf,\n",
    "    param_grid=param_grid,\n",
    "    cv=5,\n",
    "    n_jobs=-1,\n",
    "    scoring='f1_weighted',\n",
    "    verbose=1\n",
    ")\n",
    "\n",
    "print(\"Perform a grid search in...\")\n",
    "grid_search.fit(X_train, y_train)\n",
    "\n",
    "print(\"\\nOptimal parameters:\", grid_search.best_params_)\n",
    "print(\"Best cross-validation score: {:.4f}\".format(grid_search.best_score_))\n",
    "\n",
    "best_rf = grid_search.best_estimator_\n",
    "y_pred = best_rf.predict(X_test)\n",
    "\n",
    "accuracy = accuracy_score(y_test, y_pred)\n",
    "f1 = f1_score(y_test, y_pred, average='weighted')\n",
    "precision = precision_score(y_test, y_pred, average='weighted')\n",
    "recall = recall_score(y_test, y_pred, average='weighted')\n",
    "\n",
    "print(\"\\nModel Evaluation Metrics:\")\n",
    "print(f\"Accuracy: {accuracy:.4f}\")\n",
    "print(f\"F1 Score: {f1:.4f}\")\n",
    "print(f\"Precision: {precision:.4f}\")\n",
    "print(f\"Recall: {recall:.4f}\")\n",
    "\n",
    "# Cross-validation\n",
    "cv_scores = cross_val_score(best_rf, X_train, y_train, cv=5, scoring='f1_weighted')\n",
    "print(\"\\n5-Fold Cross-Validation Results:\")\n",
    "print(\"Scores for each fold:\", cv_scores)\n",
    "print(\"Mean Score: {:.4f} (+/- {:.4f})\".format(cv_scores.mean(), cv_scores.std() * 2))\n",
    "\n",
    "# Plot Confusion Matrix\n",
    "conf_matrix = confusion_matrix(y_test, y_pred)\n",
    "cm_display = ConfusionMatrixDisplay(confusion_matrix=conf_matrix, display_labels=best_rf.classes_)\n",
    "cm_display.plot(cmap='Blues')\n",
    "plt.title(\"Confusion Matrix\")\n",
    "plt.show()\n",
    "\n",
    "# Print detailed classification report\n",
    "print(\"\\nClassification Report:\")\n",
    "print(classification_report(y_test, y_pred))\n",
    "\n"
   ]
  }
 ],
 "metadata": {
  "kernelspec": {
   "display_name": "CS506",
   "language": "python",
   "name": "python3"
  },
  "language_info": {
   "codemirror_mode": {
    "name": "ipython",
    "version": 3
   },
   "file_extension": ".py",
   "mimetype": "text/x-python",
   "name": "python",
   "nbconvert_exporter": "python",
   "pygments_lexer": "ipython3",
   "version": "3.10.14"
  }
 },
 "nbformat": 4,
 "nbformat_minor": 2
}
