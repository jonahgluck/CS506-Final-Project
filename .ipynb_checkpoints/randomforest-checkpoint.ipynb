{
 "cells": [
  {
   "cell_type": "markdown",
   "metadata": {},
   "source": [
    "# Feature Reading & Cleaning"
   ]
  },
  {
   "cell_type": "code",
   "execution_count": null,
   "metadata": {},
   "outputs": [],
   "source": [
    "import pandas as pd\n",
    "import numpy as np\n",
    "import matplotlib.pyplot as plt\n",
    "import joblib\n",
    "import sklearn\n",
    "from sklearn.preprocessing import MinMaxScaler\n",
    "from sklearn.ensemble import RandomForestClassifier\n",
    "from sklearn.model_selection import GridSearchCV, train_test_split\n",
    "from sklearn.metrics import accuracy_score, classification_report, confusion_matrix\n",
    "from sklearn.utils import class_weight\n",
    "# read the data\n",
    "df1 = pd.read_csv('data/2022.06.12.csv')\n",
    "df2 = pd.read_csv('data/2022.06.13.csv')\n",
    "df3 = pd.read_csv('data/2022.06.14.csv')"
   ]
  },
  {
   "cell_type": "code",
   "execution_count": 2,
   "metadata": {},
   "outputs": [],
   "source": [
    "df_dataset = pd.concat([df1, df2, df3])\n",
    "df_dataset.reset_index(drop=True, inplace=True)\n",
    "df_dataset = df_dataset.drop(['time_start', 'time_end', 'dest_ip', 'src_ip'], axis=1)"
   ]
  },
  {
   "cell_type": "code",
   "execution_count": 3,
   "metadata": {},
   "outputs": [
    {
     "name": "stdout",
     "output_type": "stream",
     "text": [
      "0\n"
     ]
    }
   ],
   "source": [
    "# replace +ve and -ve infinity with NaN\n",
    "df_dataset.replace([np.inf, -np.inf], np.nan, inplace=True)\n",
    "# drop missing values\n",
    "df_dataset.dropna(inplace=True)\n",
    "\n",
    "df_dataset.drop_duplicates(inplace = True)\n",
    "print(df_dataset.duplicated().sum())"
   ]
  },
  {
   "cell_type": "code",
   "execution_count": 4,
   "metadata": {},
   "outputs": [
    {
     "data": {
      "text/plain": [
       "label\n",
       "benign       434553\n",
       "outlier      352045\n",
       "malicious     72182\n",
       "Name: count, dtype: int64"
      ]
     },
     "execution_count": 4,
     "metadata": {},
     "output_type": "execute_result"
    }
   ],
   "source": [
    "df_dataset[\"label\"].value_counts()"
   ]
  },
  {
   "cell_type": "markdown",
   "metadata": {},
   "source": [
    "# Feature Engineering"
   ]
  },
  {
   "cell_type": "code",
   "execution_count": null,
   "metadata": {},
   "outputs": [],
   "source": []
  },
  {
   "cell_type": "markdown",
   "metadata": {},
   "source": [
    "# Model Training"
   ]
  },
  {
   "cell_type": "code",
   "execution_count": null,
   "metadata": {},
   "outputs": [],
   "source": [
    "df_equal = df_dataset\n",
    "train, test = train_test_split(df_equal, test_size=0.2)"
   ]
  },
  {
   "cell_type": "code",
   "execution_count": 7,
   "metadata": {},
   "outputs": [
    {
     "name": "stdout",
     "output_type": "stream",
     "text": [
      "Full dataset:\n",
      "\n",
      "Benign: 434553\n",
      "Outlier: 352045\n",
      "Malicious: 72182\n",
      "---------------\n",
      "Training set:\n",
      "\n",
      "Benign: 347340\n",
      "Outlier: 281815\n",
      "Malicious: 57869\n",
      "---------------\n",
      "Test set:\n",
      "\n",
      "Benign: 87213\n",
      "Outlier: 70230\n",
      "Malicious: 14313\n"
     ]
    },
    {
     "name": "stderr",
     "output_type": "stream",
     "text": [
      "C:\\Users\\Lenovo\\AppData\\Local\\Temp\\ipykernel_23404\\3465864147.py:9: FutureWarning: Series.__getitem__ treating keys as positions is deprecated. In a future version, integer keys will always be treated as labels (consistent with DataFrame behavior). To access a value by position, use `ser.iloc[pos]`\n",
      "  print(\"Benign: \" + str(df_equal[\"label\"].value_counts()[[0]].sum()))\n",
      "C:\\Users\\Lenovo\\AppData\\Local\\Temp\\ipykernel_23404\\3465864147.py:10: FutureWarning: Series.__getitem__ treating keys as positions is deprecated. In a future version, integer keys will always be treated as labels (consistent with DataFrame behavior). To access a value by position, use `ser.iloc[pos]`\n",
      "  print(\"Outlier: \" + str(df_equal[\"label\"].value_counts()[[1]].sum()))\n",
      "C:\\Users\\Lenovo\\AppData\\Local\\Temp\\ipykernel_23404\\3465864147.py:11: FutureWarning: Series.__getitem__ treating keys as positions is deprecated. In a future version, integer keys will always be treated as labels (consistent with DataFrame behavior). To access a value by position, use `ser.iloc[pos]`\n",
      "  print(\"Malicious: \" + str(df_equal[\"label\"].value_counts()[[2]].sum()))\n",
      "C:\\Users\\Lenovo\\AppData\\Local\\Temp\\ipykernel_23404\\3465864147.py:15: FutureWarning: Series.__getitem__ treating keys as positions is deprecated. In a future version, integer keys will always be treated as labels (consistent with DataFrame behavior). To access a value by position, use `ser.iloc[pos]`\n",
      "  print(\"Benign: \" + str(train[\"label\"].value_counts()[[0]].sum()))\n",
      "C:\\Users\\Lenovo\\AppData\\Local\\Temp\\ipykernel_23404\\3465864147.py:16: FutureWarning: Series.__getitem__ treating keys as positions is deprecated. In a future version, integer keys will always be treated as labels (consistent with DataFrame behavior). To access a value by position, use `ser.iloc[pos]`\n",
      "  print(\"Outlier: \" + str(train[\"label\"].value_counts()[[1]].sum()))\n",
      "C:\\Users\\Lenovo\\AppData\\Local\\Temp\\ipykernel_23404\\3465864147.py:17: FutureWarning: Series.__getitem__ treating keys as positions is deprecated. In a future version, integer keys will always be treated as labels (consistent with DataFrame behavior). To access a value by position, use `ser.iloc[pos]`\n",
      "  print(\"Malicious: \" + str(train[\"label\"].value_counts()[[2]].sum()))\n",
      "C:\\Users\\Lenovo\\AppData\\Local\\Temp\\ipykernel_23404\\3465864147.py:21: FutureWarning: Series.__getitem__ treating keys as positions is deprecated. In a future version, integer keys will always be treated as labels (consistent with DataFrame behavior). To access a value by position, use `ser.iloc[pos]`\n",
      "  print(\"Benign: \" + str(test[\"label\"].value_counts()[[0]].sum()))\n",
      "C:\\Users\\Lenovo\\AppData\\Local\\Temp\\ipykernel_23404\\3465864147.py:22: FutureWarning: Series.__getitem__ treating keys as positions is deprecated. In a future version, integer keys will always be treated as labels (consistent with DataFrame behavior). To access a value by position, use `ser.iloc[pos]`\n",
      "  print(\"Outlier: \" + str(test[\"label\"].value_counts()[[1]].sum()))\n",
      "C:\\Users\\Lenovo\\AppData\\Local\\Temp\\ipykernel_23404\\3465864147.py:23: FutureWarning: Series.__getitem__ treating keys as positions is deprecated. In a future version, integer keys will always be treated as labels (consistent with DataFrame behavior). To access a value by position, use `ser.iloc[pos]`\n",
      "  print(\"Malicious: \" + str(test[\"label\"].value_counts()[[2]].sum()))\n"
     ]
    }
   ],
   "source": [
    "numerical_columns = ['avg_ipt', 'bytes_in', 'bytes_out', 'dest_port', 'entropy',\n",
    "                     'num_pkts_out', 'num_pkts_in', 'src_port',\n",
    "                    'total_entropy', 'duration']\n",
    "min_max_scaler = MinMaxScaler().fit(train[numerical_columns])\n",
    "train[numerical_columns] = min_max_scaler.transform(train[numerical_columns])\n",
    "test[numerical_columns] = min_max_scaler.transform(test[numerical_columns])\n",
    "\n",
    "print(\"Full dataset:\\n\")\n",
    "print(\"Benign: \" + str(df_equal[\"label\"].value_counts()[[0]].sum()))\n",
    "print(\"Outlier: \" + str(df_equal[\"label\"].value_counts()[[1]].sum()))\n",
    "print(\"Malicious: \" + str(df_equal[\"label\"].value_counts()[[2]].sum()))\n",
    "print(\"---------------\")\n",
    "\n",
    "print(\"Training set:\\n\")\n",
    "print(\"Benign: \" + str(train[\"label\"].value_counts()[[0]].sum()))\n",
    "print(\"Outlier: \" + str(train[\"label\"].value_counts()[[1]].sum()))\n",
    "print(\"Malicious: \" + str(train[\"label\"].value_counts()[[2]].sum()))\n",
    "print(\"---------------\")\n",
    "\n",
    "print(\"Test set:\\n\")\n",
    "print(\"Benign: \" + str(test[\"label\"].value_counts()[[0]].sum()))\n",
    "print(\"Outlier: \" + str(test[\"label\"].value_counts()[[1]].sum()))\n",
    "print(\"Malicious: \" + str(test[\"label\"].value_counts()[[2]].sum()))"
   ]
  },
  {
   "cell_type": "code",
   "execution_count": 8,
   "metadata": {},
   "outputs": [],
   "source": [
    "y_train = np.array(train.pop(\"label\"))# pop removes \"Label\" from the dataframe\n",
    "X_train = train.values\n",
    "\n",
    "y_test = np.array(test.pop(\"label\")) # pop removes \"Label\" from the dataframe\n",
    "X_test = test.values"
   ]
  },
  {
   "cell_type": "code",
   "execution_count": null,
   "metadata": {},
   "outputs": [
    {
     "name": "stdout",
     "output_type": "stream",
     "text": [
      "Accuracy: 0.9675\n"
     ]
    }
   ],
   "source": [
    "rf_model = RandomForestClassifier(n_estimators=100, random_state=42)\n",
    "rf_model.fit(X_train, y_train)\n",
    "\n",
    "y_pred = rf_model.predict(X_test)\n",
    "\n",
    "accuracy = accuracy_score(y_test, y_pred)\n",
    "print(f'Accuracy: {accuracy:.4f}')"
   ]
  },
  {
   "cell_type": "code",
   "execution_count": null,
   "metadata": {},
   "outputs": [
    {
     "data": {
      "image/png": "[encoded data removed]",
      "text/plain": [
       "<Figure size 640x480 with 2 Axes>"
      ]
     },
     "metadata": {},
     "output_type": "display_data"
    },
    {
     "name": "stdout",
     "output_type": "stream",
     "text": [
      "F1 Score: 0.9670\n",
      "Precision: 0.9667\n",
      "Recall: 0.9675\n",
      "\n",
      "Classification Report:\n",
      "              precision    recall  f1-score   support\n",
      "\n",
      "      benign       1.00      1.00      1.00     87213\n",
      "   malicious       0.83      0.77      0.80     14313\n",
      "     outlier       0.95      0.97      0.96     70230\n",
      "\n",
      "    accuracy                           0.97    171756\n",
      "   macro avg       0.93      0.91      0.92    171756\n",
      "weighted avg       0.97      0.97      0.97    171756\n",
      "\n"
     ]
    }
   ],
   "source": [
    "from sklearn.metrics import confusion_matrix, ConfusionMatrixDisplay, classification_report, f1_score, precision_score, recall_score\n",
    "\n",
    "conf_matrix = confusion_matrix(y_test, y_pred)\n",
    "\n",
    "cm_display = ConfusionMatrixDisplay(confusion_matrix=conf_matrix, display_labels=rf_model.classes_)\n",
    "cm_display.plot(cmap='Blues')\n",
    "plt.title(\"Confusion Matrix\")\n",
    "plt.show()\n",
    "\n",
    "f1 = f1_score(y_test, y_pred, average='weighted')\n",
    "precision = precision_score(y_test, y_pred, average='weighted')\n",
    "recall = recall_score(y_test, y_pred, average='weighted')\n",
    "\n",
    "print(f\"F1 Score: {f1:.4f}\")\n",
    "print(f\"Precision: {precision:.4f}\")\n",
    "print(f\"Recall: {recall:.4f}\")\n",
    "\n",
    "print(\"\\nClassification Report:\")\n",
    "print(classification_report(y_test, y_pred))\n"
   ]
  },
  {
   "cell_type": "markdown",
   "metadata": {},
   "source": [
    "### Decision Tree"
   ]
  },
  {
   "cell_type": "code",
   "execution_count": null,
   "metadata": {},
   "outputs": [
    {
     "name": "stdout",
     "output_type": "stream",
     "text": [
      "Best Accuracy: 97.16 %\n",
      "Best Parameters: {'criterion': 'entropy', 'max_depth': 9, 'min_samples_leaf': 1, 'min_samples_split': 2}\n"
     ]
    }
   ],
   "source": [
    "# from sklearn.tree import DecisionTreeClassifier\n",
    "# from sklearn.model_selection import RandomizedSearchCV\n",
    "# from scipy.stats import randint\n",
    "# dt = DecisionTreeClassifier(criterion = 'entropy', max_depth=5)\n",
    "\n",
    "# parameters = {'max_depth': randint(2, 10), 'min_samples_split': randint(2, 10), 'min_samples_leaf': [1, 2, 3, 4, 5], 'criterion': ['gini', 'entropy']}\n",
    "\n",
    "# random_search = RandomizedSearchCV(dt, param_distributions=parameters, n_iter=20, cv=5, n_jobs=-1)\n",
    "# random_search.fit(X_train, y_train)\n",
    "# best_accuracy = random_search.best_score_\n",
    "# best_parameters = random_search.best_params_\n",
    "\n",
    "# print(\"Best Accuracy: {:.2f} %\".format(best_accuracy*100))\n",
    "# print(\"Best Parameters:\", best_parameters)"
   ]
  },
  {
   "cell_type": "code",
   "execution_count": null,
   "metadata": {},
   "outputs": [
    {
     "name": "stdout",
     "output_type": "stream",
     "text": [
      "Accuracy on Training set:  0.9730300542630242\n",
      "Accuracy on Testing set:  0.9725133328675563\n"
     ]
    }
   ],
   "source": [
    "# from sklearn import metrics\n",
    "# best_dt = DecisionTreeClassifier(**random_search.best_params_)\n",
    "# best_dt.fit(X_train,y_train)\n",
    "\n",
    "# # Predicting Train & Test Results\n",
    "# y_dt = best_dt.predict(X_train)\n",
    "# y_pred_dt = best_dt.predict(X_test)\n",
    "\n",
    "# # Accuracy\n",
    "# print(\"Accuracy on Training set: \",metrics.accuracy_score(y_train, y_dt))\n",
    "# print(\"Accuracy on Testing set: \",metrics.accuracy_score(y_test, y_pred_dt))"
   ]
  },
  {
   "cell_type": "markdown",
   "metadata": {},
   "source": [
    "### RandomForest Hyperparameter adjustment"
   ]
  },
  {
   "cell_type": "code",
   "execution_count": null,
   "metadata": {},
   "outputs": [
    {
     "name": "stdout",
     "output_type": "stream",
     "text": [
      "Best Accuracy: 97.23 %\n",
      "Best Parameters: {'max_depth': 9, 'max_features': 'sqrt', 'min_samples_leaf': 6, 'min_samples_split': 13, 'n_estimators': 471}\n"
     ]
    }
   ],
   "source": [
    "# rf = RandomForestClassifier(n_estimators=60, random_state=42)\n",
    "\n",
    "# parameters = {'n_estimators': randint(50, 1000), 'max_depth': randint(2, 10), 'min_samples_split': randint(2, 20),\n",
    "#               'min_samples_leaf': randint(1, 10), 'max_features': ['sqrt', 'log2', None]}\n",
    "\n",
    "# random_search = RandomizedSearchCV(rf, param_distributions=parameters, n_iter=20, cv=5, n_jobs=-1)\n",
    "# random_search.fit(X_train, y_train)\n",
    "# best_accuracy = random_search.best_score_\n",
    "# best_parameters = random_search.best_params_\n",
    "\n",
    "# print(\"Best Accuracy: {:.2f} %\".format(best_accuracy*100))\n",
    "# print(\"Best Parameters:\", best_parameters)"
   ]
  },
  {
   "cell_type": "code",
   "execution_count": null,
   "metadata": {},
   "outputs": [
    {
     "name": "stdout",
     "output_type": "stream",
     "text": [
      "Accuracy on Training set:  0.9723080998625958\n",
      "Accuracy on Testing set:  0.9717622674025944\n"
     ]
    }
   ],
   "source": [
    "# best_rf = RandomForestClassifier(**random_search.best_params_)\n",
    "# best_rf.fit(X_train, y_train)\n",
    "\n",
    "# # Predicting Train & Test Results\n",
    "# y_rf = best_rf.predict(X_train)\n",
    "# y_pred_rf = best_rf.predict(X_test)\n",
    "\n",
    "# # Accuracy\n",
    "# print(\"Accuracy on Training set: \",metrics.accuracy_score(y_train, y_rf))\n",
    "# print(\"Accuracy on Testing set: \",metrics.accuracy_score(y_test, y_pred_rf))"
   ]
  }
 ],
 "metadata": {
  "kernelspec": {
   "display_name": "CS506",
   "language": "python",
   "name": "python3"
  },
  "language_info": {
   "codemirror_mode": {
    "name": "ipython",
    "version": 3
   },
   "file_extension": ".py",
   "mimetype": "text/x-python",
   "name": "python",
   "nbconvert_exporter": "python",
   "pygments_lexer": "ipython3",
   "version": "3.10.14"
  }
 },
 "nbformat": 4,
 "nbformat_minor": 2
}
